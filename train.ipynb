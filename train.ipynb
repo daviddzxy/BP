{
 "cells": [
  {
   "cell_type": "code",
   "execution_count": 2,
   "metadata": {},
   "outputs": [],
   "source": [
    "import models\n",
    "import datasets\n",
    "import loss_functions\n",
    "import networks\n",
    "\n",
    "import time\n",
    "import numpy as np\n",
    "import random\n",
    "import os\n",
    "import matplotlib.pyplot as plt\n",
    "\n",
    "import torch\n",
    "\n",
    "from importlib import reload\n",
    "from torch.utils.data import DataLoader\n",
    "from sklearn.metrics import confusion_matrix\n",
    "from sklearn.model_selection import train_test_split \n",
    "from sklearn.metrics import accuracy_score, precision_score, recall_score, f1_score\n",
    "from sklearn.model_selection import KFold"
   ]
  },
  {
   "cell_type": "code",
   "execution_count": 3,
   "metadata": {},
   "outputs": [],
   "source": [
    "def show_image(arr, label=None):\n",
    "    plt.pause(0.05)\n",
    "    if label:\n",
    "        plt.xlabel(label)\n",
    "    plt.imshow(arr, cmap=plt.cm.gist_gray)"
   ]
  },
  {
   "cell_type": "code",
   "execution_count": 4,
   "metadata": {},
   "outputs": [],
   "source": [
    "from numpy.linalg import norm\n",
    "def euclidean_disance(x, y):\n",
    "    return norm(x - y)\n",
    "\n",
    "\n",
    "def most_common(arr):\n",
    "    counts = np.bincount(arr)\n",
    "    return np.argmax(counts)"
   ]
  },
  {
   "cell_type": "code",
   "execution_count": 5,
   "metadata": {},
   "outputs": [],
   "source": [
    "def count_classes(images):\n",
    "    positive, negative = 0, 0\n",
    "    for image in images:\n",
    "        if image.__contains__(\"False\"):\n",
    "            negative = negative + 1\n",
    "        else:\n",
    "            positive = positive + 1\n",
    "    print(\"Positive = {}\\nNegative = {}\".format(positive,negative))\n"
   ]
  },
  {
   "cell_type": "code",
   "execution_count": 6,
   "metadata": {},
   "outputs": [],
   "source": [
    "def predict_label(encoding, encodings, labels, k, paths=None):\n",
    "    #pridat paths na ziskanie cesty k podobnym obrazkom\n",
    "    distances = np.zeros(len(encodings))\n",
    "    for indx, x in enumerate(encodings, 0):\n",
    "        distance = euclidean_disance(encoding, x)\n",
    "        distances[indx] = distance\n",
    "    if paths is not None:\n",
    "        zipped = list(zip(encodings, distances, labels, paths))\n",
    "        zipped.sort(key=lambda t: t[1])\n",
    "        zipped = zipped[1:k + 1]\n",
    "        paths = np.array(zipped)[:,3]\n",
    "        labels = np.array(zipped)[:, 2].astype(int)\n",
    "        result = most_common(labels)\n",
    "        return result, paths\n",
    "    else:\n",
    "        zipped = list(zip(encodings, distances, labels))\n",
    "        zipped.sort(key=lambda t: t[1])\n",
    "        zipped = zipped[1:k + 1]\n",
    "        labels = np.array(zipped)[:, 2].astype(int)\n",
    "        result = most_common(labels)\n",
    "        return result"
   ]
  },
  {
   "cell_type": "code",
   "execution_count": 7,
   "metadata": {},
   "outputs": [],
   "source": [
    "def plot_results(encodings, labels):\n",
    "    color = ['blue' if label == 0 else 'red' for label in labels]\n",
    "    plt.scatter(encodings[:, 0], encodings[:, 1], c=color)\n",
    "    plt.xlabel(\"dim1\")\n",
    "    plt.ylabel(\"dim2\")\n",
    "    plt.show()"
   ]
  },
  {
   "cell_type": "code",
   "execution_count": 8,
   "metadata": {},
   "outputs": [],
   "source": [
    "def print_scores(labels, predicted_labels):\n",
    "    print(\"Accuracy: {}\".format(accuracy_score(labels, predicted_labels)))\n",
    "    print(\"Precision: {}\".format(precision_score(labels, predicted_labels)))\n",
    "    print(\"Recall: {}\".format(recall_score(labels, predicted_labels)))\n",
    "    print(\"F1: {}\".format(f1_score(labels, predicted_labels)))"
   ]
  },
  {
   "cell_type": "code",
   "execution_count": 11,
   "metadata": {},
   "outputs": [],
   "source": [
    "def print_conf_matrix(labels, predicted_labels):\n",
    "    tn, fp, fn, tp = confusion_matrix(labels, predicted_labels).ravel()\n",
    "    print(\"tn: {}\\nfp: {}\\nfn: {}\\ntp: {}\\n\".format(tn,fp,fn,tp))"
   ]
  },
  {
   "cell_type": "code",
   "execution_count": 9,
   "metadata": {},
   "outputs": [],
   "source": [
    "def plot_loss(loss_history):\n",
    "    plt.xlabel(\"batch\")\n",
    "    plt.ylabel(\"loss\")\n",
    "    plt.plot(loss_history)\n",
    "    plt.show()"
   ]
  },
  {
   "cell_type": "code",
   "execution_count": 10,
   "metadata": {},
   "outputs": [],
   "source": [
    "def undersample(images):\n",
    "    false_images = []\n",
    "    true_images = []\n",
    "    for image in images:\n",
    "        false_images.append(image) if image.__contains__(\"False\") else true_images.append(image)\n",
    "\n",
    "    images = []\n",
    "    if len(false_images) > len(true_images):\n",
    "        false_images = false_images[0:len(true_images)]\n",
    "        images = false_images\n",
    "        images.extend(true_images)\n",
    "        \n",
    "    else:\n",
    "        true_images = true_images[0:len(false_images)]\n",
    "        images = true_images\n",
    "        images.extend(false_images)\n",
    "        \n",
    "    return images"
   ]
  },
  {
   "cell_type": "code",
   "execution_count": 12,
   "metadata": {},
   "outputs": [],
   "source": [
    "def eval_model(model, dataloader_train, dataloader_test):\n",
    "    encodings, labels, paths = model.predict(dataloader_train)\n",
    "    plot_results(encodings, labels)\n",
    "    \n",
    "    encodings, labels, paths = model.predict(dataloader_test)\n",
    "    plot_results(encodings, labels)\n",
    "    \n",
    "    predicted_labels = []\n",
    "    for encoding, label in (zip(encodings, labels)):\n",
    "        predicted_labels.append(predict_label(encoding, encodings, labels, 3))\n",
    "\n",
    "    predicted_labels = np.array(predicted_labels)\n",
    "    print_conf_matrix(labels, predicted_labels)\n",
    "    print_scores(labels, predicted_labels)\n",
    "    return encodings, labels, paths"
   ]
  },
  {
   "cell_type": "code",
   "execution_count": 13,
   "metadata": {},
   "outputs": [],
   "source": [
    "def validation(model, data, batch_size, path, split_factor=0.2):\n",
    "        data = np.array(data)\n",
    "        train, test = train_test_split(data, test_size=split_factor)\n",
    "        dataset_train = datasets.SiameseDataset(path, train)\n",
    "        dataset_test = datasets.SiameseDataset(path, test)\n",
    "        dataloader_train = DataLoader(dataset_train, shuffle=1, num_workers=4, batch_size=batch_size, drop_last=True)\n",
    "        loss_history = model.fit(dataloader_train)\n",
    "        plot_loss(loss_history)\n",
    "        dataloader_train_eval = DataLoader(dataset_train.change_strategy(get_pair=False), shuffle=0, num_workers=4, batch_size=batch_size, drop_last=False)\n",
    "        dataloader_test_eval = DataLoader(dataset_test.change_strategy(get_pair=False), shuffle=0, num_workers=4, batch_size=batch_size, drop_last=False)\n",
    "        eval_model(model, dataloader_train_eval, dataloader_test_eval)"
   ]
  },
  {
   "cell_type": "code",
   "execution_count": 14,
   "metadata": {},
   "outputs": [],
   "source": [
    "def k_cross_validation(model, data, batch_size, path, k=5):\n",
    "    data = np.array(data)\n",
    "    kf = KFold(n_splits=k)\n",
    "    torch.save(model.network,'./net')\n",
    "    nfold = 1\n",
    "    for train, test in kf.split(data):\n",
    "        print(\"############### Fold number {} ###############\\n\".format(nfold))\n",
    "        dataset_train = datasets.SiameseDataset(path, data[train])\n",
    "        dataset_test = datasets.SiameseDataset(path, data[test])\n",
    "        dataloader_train = DataLoader(dataset_train, shuffle=1, num_workers=4, batch_size=batch_size, drop_last=True)\n",
    "        loss_history = model.fit(dataloader_train)\n",
    "        plot_loss(loss_history)\n",
    "        dataloader_train_eval = DataLoader(dataset_train.change_strategy(get_pair=False), shuffle=0, num_workers=4, batch_size=batch_size, drop_last=False)\n",
    "        dataloader_test_eval = DataLoader(dataset_test.change_strategy(get_pair=False), shuffle=0, num_workers=4, batch_size=batch_size, drop_last=False)\n",
    "        eval_model(model, dataloader_train_eval, dataloader_test_eval)\n",
    "        model.network = torch.load('./net')\n",
    "        nfold = nfold + 1\n"
   ]
  },
  {
   "cell_type": "code",
   "execution_count": 16,
   "metadata": {},
   "outputs": [],
   "source": [
    "def train_loop(model, epochs, dataloader):\n",
    "    for epoch in range(0, epochs):\n",
    "        for i, data in enumerate(dataloader, 0):\n",
    "            loss = model.fit(data)\n",
    "            loss_sum = loss + loss_sum\n",
    "            #print(\"Epoch no. {}\\nBatch {}\\nCurrent loss {}\\n\".format(epoch, i, loss_contrastive.item()))\n",
    "            if i % 10 == 0:\n",
    "                avg_loss = loss_sum / 10\n",
    "                loss_history.append(avg_loss)\n",
    "                loss_sum = 0\n",
    "    return loss_history"
   ]
  },
  {
   "cell_type": "code",
   "execution_count": 15,
   "metadata": {},
   "outputs": [],
   "source": [
    "def predict_loop(model, dataloader):\n",
    "    encodings = []\n",
    "    labels = []\n",
    "    for epoch in range(0, epochs):\n",
    "        for img, label, _ in enumerate(dataloader):\n",
    "            encoding = models.predict(img)\n",
    "            encodings.extend(encoding.numpy())\n",
    "            labels.extend(label.numpy())\n",
    "            \n",
    "    return np.array(encodings), np.array(labels)\n",
    "            "
   ]
  },
  {
   "cell_type": "markdown",
   "metadata": {},
   "source": [
    "# TEST"
   ]
  },
  {
   "cell_type": "code",
   "execution_count": 19,
   "metadata": {},
   "outputs": [],
   "source": [
    "path = '../Data/diff_ADC_BVAL_np_norm'\n",
    "images = os.listdir(path)\n",
    "random.shuffle(images)\n",
    "\n"
   ]
  },
  {
   "cell_type": "code",
   "execution_count": 92,
   "metadata": {},
   "outputs": [],
   "source": [
    "train, test = train_test_split(images, test_size=0.3)\n",
    "dataset_train = datasets.SiameseDataset(path, train)\n",
    "dataset_test = datasets.SiameseDataset(path, test)\n",
    "dataloader_train = DataLoader(dataset_train, shuffle=1, num_workers=4, batch_size=64, drop_last=True)"
   ]
  },
  {
   "cell_type": "code",
   "execution_count": 94,
   "metadata": {},
   "outputs": [],
   "source": [
    "model = models.SiameseModel(2, 0.0001, networks.SiameseNet(networks.Net2DChannel2()).cuda(), loss_functions.ContrastiveLoss())\n",
    "loss_history = model.fit(dataloader_train)"
   ]
  },
  {
   "cell_type": "code",
   "execution_count": 95,
   "metadata": {},
   "outputs": [
    {
     "data": {
      "image/png": "[encoded data removed]",
      "text/plain": [
       "<Figure size 432x288 with 1 Axes>"
      ]
     },
     "metadata": {
      "needs_background": "light"
     },
     "output_type": "display_data"
    }
   ],
   "source": [
    "plot_loss(loss_history)\n"
   ]
  },
  {
   "cell_type": "code",
   "execution_count": 96,
   "metadata": {},
   "outputs": [],
   "source": [
    "dataloader_train_eval = DataLoader(dataset_train.change_strategy(get_pair=False), shuffle=0, num_workers=4, batch_size=8, drop_last=False)\n",
    "dataloader_test_eval = DataLoader(dataset_test.change_strategy(get_pair=False), shuffle=0, num_workers=4, batch_size=8, drop_last=False)"
   ]
  },
  {
   "cell_type": "code",
   "execution_count": 97,
   "metadata": {},
   "outputs": [
    {
     "data": {
      "image/png": "[encoded data removed]",
      "text/plain": [
       "<Figure size 432x288 with 1 Axes>"
      ]
     },
     "metadata": {
      "needs_background": "light"
     },
     "output_type": "display_data"
    },
    {
     "data": {
      "image/png": "[encoded data removed]",
      "text/plain": [
       "<Figure size 432x288 with 1 Axes>"
      ]
     },
     "metadata": {
      "needs_background": "light"
     },
     "output_type": "display_data"
    },
    {
     "name": "stdout",
     "output_type": "stream",
     "text": [
      "tn: 35\n",
      "fp: 28\n",
      "fn: 23\n",
      "tp: 40\n",
      "\n",
      "Accuracy: 0.5952380952380952\n",
      "Precision: 0.5882352941176471\n",
      "Recall: 0.6349206349206349\n",
      "F1: 0.6106870229007633\n"
     ]
    }
   ],
   "source": [
    "encodings, real_labels, paths = eval_model(model, dataloader_train_eval, dataloader_test_eval)\n"
   ]
  },
  {
   "cell_type": "code",
   "execution_count": 85,
   "metadata": {},
   "outputs": [
    {
     "data": {
      "image/png": "[encoded data removed]",
      "text/plain": [
       "<Figure size 432x288 with 1 Axes>"
      ]
     },
     "metadata": {
      "needs_background": "light"
     },
     "output_type": "display_data"
    }
   ],
   "source": [
    "show_image(np.load(paths[0])[0])"
   ]
  },
  {
   "cell_type": "code",
   "execution_count": 86,
   "metadata": {},
   "outputs": [],
   "source": [
    "predcited_label, similar_paths = predict_label(encoding=encodings[0], encodings=encodings, labels=real_labels, k=3, paths=paths)"
   ]
  },
  {
   "cell_type": "code",
   "execution_count": 83,
   "metadata": {},
   "outputs": [
    {
     "data": {
      "text/plain": [
       "0"
      ]
     },
     "execution_count": 83,
     "metadata": {},
     "output_type": "execute_result"
    }
   ],
   "source": [
    "real_labels[0]"
   ]
  },
  {
   "cell_type": "code",
   "execution_count": 79,
   "metadata": {},
   "outputs": [
    {
     "data": {
      "text/plain": [
       "1"
      ]
     },
     "execution_count": 79,
     "metadata": {},
     "output_type": "execute_result"
    }
   ],
   "source": [
    "predcited_label"
   ]
  },
  {
   "cell_type": "code",
   "execution_count": 87,
   "metadata": {},
   "outputs": [
    {
     "data": {
      "text/plain": [
       "array(['../Data/t2_tra_np_norm\\\\False FID 1 ProstateX-0020 IJK [157 231  10] DCM 5 H.npy',\n",
       "       '../Data/t2_tra_np_norm\\\\True FID 1 ProstateX-0202 IJK [187 166  10] DCM 4.npy',\n",
       "       '../Data/t2_tra_np_norm\\\\True FID 2 ProstateX-0179 IJK [191 215   5] DCM 5.npy'],\n",
       "      dtype=object)"
      ]
     },
     "execution_count": 87,
     "metadata": {},
     "output_type": "execute_result"
    }
   ],
   "source": [
    "similar_paths"
   ]
  },
  {
   "cell_type": "code",
   "execution_count": 88,
   "metadata": {},
   "outputs": [
    {
     "data": {
      "image/png": "[encoded data removed]",
      "text/plain": [
       "<Figure size 432x288 with 1 Axes>"
      ]
     },
     "metadata": {
      "needs_background": "light"
     },
     "output_type": "display_data"
    }
   ],
   "source": [
    "show_image(np.load('../Data/t2_tra_np_norm\\\\False FID 1 ProstateX-0020 IJK [157 231  10] DCM 5 H.npy')[0])"
   ]
  },
  {
   "cell_type": "code",
   "execution_count": 89,
   "metadata": {},
   "outputs": [
    {
     "data": {
      "image/png": "[encoded data removed]",
      "text/plain": [
       "<Figure size 432x288 with 1 Axes>"
      ]
     },
     "metadata": {
      "needs_background": "light"
     },
     "output_type": "display_data"
    }
   ],
   "source": [
    "show_image(np.load('../Data/t2_tra_np_norm\\\\True FID 1 ProstateX-0202 IJK [187 166  10] DCM 4.npy')[0])"
   ]
  },
  {
   "cell_type": "code",
   "execution_count": 90,
   "metadata": {},
   "outputs": [
    {
     "data": {
      "image/png": "[encoded data removed]",
      "text/plain": [
       "<Figure size 432x288 with 1 Axes>"
      ]
     },
     "metadata": {
      "needs_background": "light"
     },
     "output_type": "display_data"
    }
   ],
   "source": [
    "show_image(np.load('../Data/t2_tra_np_norm\\\\True FID 2 ProstateX-0179 IJK [191 215   5] DCM 5.npy')[0])"
   ]
  },
  {
   "cell_type": "markdown",
   "metadata": {},
   "source": [
    "# T2"
   ]
  },
  {
   "cell_type": "code",
   "execution_count": 81,
   "metadata": {},
   "outputs": [],
   "source": [
    "path = '../Data/t2_tra_np_norm'\n",
    "images = os.listdir(path)\n",
    "random.shuffle(images)\n"
   ]
  },
  {
   "cell_type": "code",
   "execution_count": null,
   "metadata": {},
   "outputs": [],
   "source": [
    "model = models.SiameseModel(4, 0.0001, networks.SiameseNet(networks.Net2DChannel1()).cuda(), loss_functions.ContrastiveLoss())\n",
    "validation(model, images, 64, path)"
   ]
  },
  {
   "cell_type": "code",
   "execution_count": null,
   "metadata": {},
   "outputs": [],
   "source": [
    "model = models.SiameseModel(4, 0.0001, networks.SiameseNet(networks.Net2DChannel1()).cuda(), loss_functions.ContrastiveLoss())\n",
    "k_cross_validation(model, images, 64, path)"
   ]
  },
  {
   "cell_type": "markdown",
   "metadata": {},
   "source": [
    "# Diff"
   ]
  },
  {
   "cell_type": "code",
   "execution_count": null,
   "metadata": {},
   "outputs": [],
   "source": [
    "path = '../Data/diff_ADC_BVAL_np_norm'\n",
    "images = os.listdir(path)\n",
    "random.shuffle(images)"
   ]
  },
  {
   "cell_type": "code",
   "execution_count": null,
   "metadata": {},
   "outputs": [],
   "source": [
    "model = models.SiameseModel(4, 0.0001, networks.SiameseNet(networks.Net2DChannel2()).cuda(), loss_functions.ContrastiveLoss())\n",
    "validation(model, images, 64, path)"
   ]
  },
  {
   "cell_type": "code",
   "execution_count": null,
   "metadata": {},
   "outputs": [],
   "source": [
    "model = models.SiameseModel(4, 0.0001, networks.SiameseNet(networks.Net2DChannel2()).cuda(), loss_functions.ContrastiveLoss())\n",
    "k_cross_validation(model, images, 64, path)"
   ]
  },
  {
   "cell_type": "markdown",
   "metadata": {},
   "source": [
    "# T2 3D"
   ]
  },
  {
   "cell_type": "code",
   "execution_count": null,
   "metadata": {},
   "outputs": [],
   "source": [
    "path = '../Data/t2_tra_np_3D_norm'\n",
    "images = os.listdir(path)\n",
    "random.shuffle(images)\n"
   ]
  },
  {
   "cell_type": "code",
   "execution_count": null,
   "metadata": {},
   "outputs": [],
   "source": [
    "model = models.SiameseModel(3, 0.0001, networks.SiameseNet(networks.Net3DChannel1()).cuda(), loss_functions.ContrastiveLoss())\n",
    "validation(model, images, 64, path)"
   ]
  },
  {
   "cell_type": "code",
   "execution_count": null,
   "metadata": {},
   "outputs": [],
   "source": [
    "model = models.SiameseModel(3, 0.0001, networks.SiameseNet(networks.Net3DChannel1()).cuda(), loss_functions.ContrastiveLoss())\n",
    "k_cross_validation(model, images, 64, path)"
   ]
  },
  {
   "cell_type": "markdown",
   "metadata": {},
   "source": [
    "# Diff 3D"
   ]
  },
  {
   "cell_type": "code",
   "execution_count": null,
   "metadata": {},
   "outputs": [],
   "source": [
    "path = '../Data/diff_ADC_BVAL_np_3D_norm'\n",
    "images = os.listdir(path)\n",
    "random.shuffle(images)\n"
   ]
  },
  {
   "cell_type": "code",
   "execution_count": null,
   "metadata": {},
   "outputs": [],
   "source": [
    "model = models.SiameseModel(3, 0.0001, networks.SiameseNet(networks.Net3DChannel2()).cuda(), loss_functions.ContrastiveLoss())\n",
    "validation(model, images, 64, path)"
   ]
  },
  {
   "cell_type": "code",
   "execution_count": null,
   "metadata": {},
   "outputs": [],
   "source": [
    "model = models.SiameseModel(3, 0.0001, networks.SiameseNet(networks.Net3DChannel2()).cuda(), loss_functions.ContrastiveLoss())\n",
    "k_cross_validation(model, images, 64, path)"
   ]
  },
  {
   "cell_type": "markdown",
   "metadata": {},
   "source": [
    "# T2 Undersample"
   ]
  },
  {
   "cell_type": "code",
   "execution_count": null,
   "metadata": {},
   "outputs": [],
   "source": [
    "path = '../Data/t2_tra_np_norm'\n",
    "images = os.listdir(path)\n",
    "images = undersample(images)\n",
    "random.shuffle(images)\n"
   ]
  },
  {
   "cell_type": "code",
   "execution_count": null,
   "metadata": {},
   "outputs": [],
   "source": [
    "model = models.SiameseModel(4, 0.0001, networks.SiameseNet(networks.Net2DChannel1()).cuda(), loss_functions.ContrastiveLoss())\n",
    "validation(model, images, 64, path)\n",
    "\n",
    "end = time.time()"
   ]
  },
  {
   "cell_type": "code",
   "execution_count": null,
   "metadata": {},
   "outputs": [],
   "source": [
    "model = models.SiameseModel(4, 0.0001, networks.SiameseNet(networks.Net2DChannel1()).cuda(), loss_functions.ContrastiveLoss())\n",
    "k_cross_validation(model, images, 64, path)"
   ]
  },
  {
   "cell_type": "markdown",
   "metadata": {},
   "source": [
    "# Diff Undersample"
   ]
  },
  {
   "cell_type": "code",
   "execution_count": null,
   "metadata": {},
   "outputs": [],
   "source": [
    "path = '../Data/diff_ADC_BVAL_np_norm'\n",
    "images = os.listdir(path)\n",
    "images = undersample(images)\n",
    "random.shuffle(images)\n",
    "\n"
   ]
  },
  {
   "cell_type": "code",
   "execution_count": null,
   "metadata": {},
   "outputs": [],
   "source": [
    "model = models.SiameseModel(4, 0.0001, networks.SiameseNet(networks.Net2DChannel2()).cuda(), loss_functions.ContrastiveLoss())\n",
    "validation(model, images, 64, path)"
   ]
  },
  {
   "cell_type": "code",
   "execution_count": null,
   "metadata": {},
   "outputs": [],
   "source": [
    "model = models.SiameseModel(4, 0.0001, networks.SiameseNet(networks.Net2DChannel2()).cuda(), loss_functions.ContrastiveLoss())\n",
    "k_cross_validation(model, images, 64, path)"
   ]
  },
  {
   "cell_type": "markdown",
   "metadata": {},
   "source": [
    "# T2 3D Undersample"
   ]
  },
  {
   "cell_type": "code",
   "execution_count": null,
   "metadata": {},
   "outputs": [],
   "source": [
    "path = '../Data/t2_tra_np_3D_norm'\n",
    "images = os.listdir(path)\n",
    "images = undersample(images)\n",
    "random.shuffle(images)"
   ]
  },
  {
   "cell_type": "code",
   "execution_count": null,
   "metadata": {},
   "outputs": [],
   "source": [
    "model = models.SiameseModel(3, 0.0001, networks.SiameseNet(networks.Net3DChannel1()).cuda(), loss_functions.ContrastiveLoss())\n",
    "validation(model, images, 64, path)"
   ]
  },
  {
   "cell_type": "code",
   "execution_count": null,
   "metadata": {},
   "outputs": [],
   "source": [
    "model = models.SiameseModel(3, 0.0001, networks.SiameseNet(networks.Net3DChannel1()).cuda(), loss_functions.ContrastiveLoss())\n",
    "k_cross_validation(model, images, 64, path)"
   ]
  },
  {
   "cell_type": "markdown",
   "metadata": {},
   "source": [
    "# Diff 3D Undersample"
   ]
  },
  {
   "cell_type": "code",
   "execution_count": null,
   "metadata": {},
   "outputs": [],
   "source": [
    "path = '../Data/diff_ADC_BVAL_np_3D_norm'\n",
    "images = os.listdir(path)\n",
    "images = undersample(images)\n",
    "random.shuffle(images)\n"
   ]
  },
  {
   "cell_type": "code",
   "execution_count": null,
   "metadata": {},
   "outputs": [],
   "source": [
    "model = models.SiameseModel(4, 0.0001, networks.SiameseNet(networks.Net3DChannel2()).cuda(), loss_functions.ContrastiveLoss())\n",
    "validation(model, images, 64, path)"
   ]
  },
  {
   "cell_type": "code",
   "execution_count": null,
   "metadata": {},
   "outputs": [],
   "source": [
    "model = models.SiameseModel(4, 0.0001, networks.SiameseNet(networks.Net3DChannel2()).cuda(), loss_functions.ContrastiveLoss())\n",
    "k_cross_validation(model, images, 64, path)"
   ]
  }
 ],
 "metadata": {
  "kernelspec": {
   "display_name": "Python 3",
   "language": "python",
   "name": "python3"
  },
  "language_info": {
   "codemirror_mode": {
    "name": "ipython",
    "version": 3
   },
   "file_extension": ".py",
   "mimetype": "text/x-python",
   "name": "python",
   "nbconvert_exporter": "python",
   "pygments_lexer": "ipython3",
   "version": "3.6.6"
  }
 },
 "nbformat": 4,
 "nbformat_minor": 2
}
